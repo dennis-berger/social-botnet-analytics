{
 "cells": [
  {
   "cell_type": "markdown",
   "id": "a3159c3b",
   "metadata": {},
   "source": [
    "# Batch‐import into Neo4j via py2neo"
   ]
  },
  {
   "cell_type": "code",
   "execution_count": 1,
   "id": "d7255184",
   "metadata": {
    "vscode": {
     "languageId": "plaintext"
    }
   },
   "outputs": [
    {
     "name": "stdout",
     "output_type": "stream",
     "text": [
      "Detected 97 Louvain communities\n",
      "CSVs generated in: /Users/dennisberger/Library/Mobile Documents/com~apple~CloudDocs/Uni/FS_2025/Social Media Analytics/project/social-botnet-analytics/neo4j_import\n"
     ]
    }
   ],
   "source": [
    "import os\n",
    "import torch\n",
    "import pandas as pd\n",
    "import numpy as np\n",
    "import networkx as nx\n",
    "from pathlib import Path\n",
    "from torch_geometric.utils import to_networkx\n",
    "\n",
    "# ─── Generate CSVs for Neo4j Import ─────────────────────────────────────────────\n",
    "\n",
    "# Load cleaned PyG data\n",
    "repo_root    = Path().resolve().parent\n",
    "cleaned_path = repo_root / \"data\" / \"processed\" / \"cleaned_data.pt\"\n",
    "data         = torch.load(cleaned_path, weights_only=False)\n",
    "\n",
    "# Build NetworkX graph\n",
    "G = to_networkx(data, to_undirected=True)\n",
    "\n",
    "# Detect Louvain communities (resolution tuned from earlier)\n",
    "communities = list(nx.community.louvain_communities(G, resolution=3.0))\n",
    "print(f\"Detected {len(communities)} Louvain communities\")\n",
    "\n",
    "# Create a cluster_labels array of length N\n",
    "N = data.num_nodes\n",
    "cluster_labels = np.full(N, -1, dtype=int)\n",
    "for cid, comm in enumerate(communities):\n",
    "    for node in comm:\n",
    "        cluster_labels[node] = cid\n",
    "\n",
    "# Prepare import directory\n",
    "import_dir = repo_root / \"neo4j_import\"\n",
    "import_dir.mkdir(exist_ok=True)\n",
    "\n",
    "# Build nodes.csv\n",
    "nodes_df = pd.DataFrame({\n",
    "    \"user_id\":    np.arange(N),\n",
    "    \"is_bot\":     data.y_bot.numpy(),\n",
    "    \"stance\":     data.y_stance.numpy(),\n",
    "    \"train_mask\": data.train_mask.numpy(),\n",
    "    \"val_mask\":   data.val_mask.numpy(),\n",
    "    \"test_mask\":  data.test_mask.numpy()\n",
    "})\n",
    "nodes_df.to_csv(import_dir / \"nodes.csv\", index=False)\n",
    "\n",
    "# Build edges.csv\n",
    "edges_df = pd.DataFrame(list(G.edges()), columns=[\"source\", \"target\"])\n",
    "edges_df.to_csv(import_dir / \"edges.csv\", index=False)\n",
    "\n",
    "# Build clusters.csv\n",
    "clusters_df = pd.DataFrame({\n",
    "    \"user_id\": np.arange(N),\n",
    "    \"cluster\": cluster_labels\n",
    "})\n",
    "clusters_df.to_csv(import_dir / \"clusters.csv\", index=False)\n",
    "\n",
    "print(\"CSVs generated in:\", import_dir)\n",
    "\n"
   ]
  },
  {
   "cell_type": "code",
   "execution_count": null,
   "id": "61d871d8-fbe9-49f1-ac8d-119835121bfe",
   "metadata": {},
   "outputs": [],
   "source": []
  }
 ],
 "metadata": {
  "kernelspec": {
   "display_name": "Python 3 (ipykernel)",
   "language": "python",
   "name": "python3"
  },
  "language_info": {
   "codemirror_mode": {
    "name": "ipython",
    "version": 3
   },
   "file_extension": ".py",
   "mimetype": "text/x-python",
   "name": "python",
   "nbconvert_exporter": "python",
   "pygments_lexer": "ipython3",
   "version": "3.13.2"
  }
 },
 "nbformat": 4,
 "nbformat_minor": 5
}
