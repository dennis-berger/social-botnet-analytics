{
 "cells": [
  {
   "cell_type": "markdown",
   "id": "2212371e",
   "metadata": {},
   "source": [
    "# 00_environment_setup\n",
    "\n",
    "**Purpose:**  \n",
    "Verify that all team members can:\n",
    "1. Activate the Python environment  \n",
    "2. Import the core libraries  \n",
    "3. Read in our config file  \n",
    "4. Load a sample of the MGTAB dataset  \n",
    "5. Connect to our Neo4j instance  \n"
   ]
  },
  {
   "cell_type": "code",
   "execution_count": 1,
   "id": "741346aa",
   "metadata": {
    "vscode": {
     "languageId": "plaintext"
    }
   },
   "outputs": [
    {
     "name": "stdout",
     "output_type": "stream",
     "text": [
      "Python: 3.13.2\n",
      "pandas: 2.2.3\n",
      "numpy: 2.2.5\n",
      "networkx: 3.4.2\n",
      "scikit-learn: 1.6.1\n",
      "matplotlib: 3.10.1\n",
      "neo4j driver: 5.28.1\n",
      "py2neo: 2021.2.4\n",
      "nltk: 3.9.1\n",
      "torch: 2.6.0\n",
      "torch_geometric: 2.6.1\n"
     ]
    }
   ],
   "source": [
    "import sys, os\n",
    "# -- ensure imports see src/ package --\n",
    "sys.path.insert(0, os.path.abspath('..'))\n",
    "print(\"Python:\", sys.version.split()[0])\n",
    "\n",
    "# Core libraries\n",
    "import pandas as pd, numpy as np, networkx as nx\n",
    "import sklearn, matplotlib, neo4j, py2neo\n",
    "import nltk\n",
    "\n",
    "# PyTorch / PyG\n",
    "import torch\n",
    "import torch_geometric\n",
    "\n",
    "print(\"pandas:\", pd.__version__)\n",
    "print(\"numpy:\", np.__version__)\n",
    "print(\"networkx:\", nx.__version__)\n",
    "print(\"scikit-learn:\", sklearn.__version__)\n",
    "print(\"matplotlib:\", matplotlib.__version__)\n",
    "print(\"neo4j driver:\", neo4j.__version__)\n",
    "print(\"py2neo:\", py2neo.__version__)\n",
    "print(\"nltk:\", nltk.__version__)\n",
    "print(\"torch:\", torch.__version__)\n",
    "print(\"torch_geometric:\", torch_geometric.__version__)\n"
   ]
  },
  {
   "cell_type": "code",
   "execution_count": 2,
   "id": "5a55f728",
   "metadata": {
    "vscode": {
     "languageId": "plaintext"
    }
   },
   "outputs": [
    {
     "data": {
      "text/plain": [
       "{'mgtab_root': 'data',\n",
       " 'neo4j': {'uri': 'bolt://localhost:7687',\n",
       "  'user': 'neo4j',\n",
       "  'password': 'neo4jpass'}}"
      ]
     },
     "execution_count": 2,
     "metadata": {},
     "output_type": "execute_result"
    }
   ],
   "source": [
    "import yaml\n",
    "\n",
    "config_path = os.path.join(\"..\", \"config\", \"config.yaml\")\n",
    "with open(config_path) as f:\n",
    "    cfg = yaml.safe_load(f)\n",
    "\n",
    "# Expect keys: mgtab_root, neo4j.uri, neo4j.user, neo4j.password\n",
    "cfg\n"
   ]
  },
  {
   "cell_type": "code",
   "execution_count": 4,
   "id": "b6c9b35a",
   "metadata": {
    "vscode": {
     "languageId": "plaintext"
    }
   },
   "outputs": [
    {
     "name": "stdout",
     "output_type": "stream",
     "text": [
      "Repo root:        /Users/dennisberger/Library/Mobile Documents/com~apple~CloudDocs/Uni/FS_2025/Social Media Analytics/project/social-botnet-analytics\n",
      "Looking in raw:   /Users/dennisberger/Library/Mobile Documents/com~apple~CloudDocs/Uni/FS_2025/Social Media Analytics/project/social-botnet-analytics/data/raw\n",
      "Files in raw:     [PosixPath('/Users/dennisberger/Library/Mobile Documents/com~apple~CloudDocs/Uni/FS_2025/Social Media Analytics/project/social-botnet-analytics/data/raw/edge_type.pt'), PosixPath('/Users/dennisberger/Library/Mobile Documents/com~apple~CloudDocs/Uni/FS_2025/Social Media Analytics/project/social-botnet-analytics/data/raw/labels_stance.pt'), PosixPath('/Users/dennisberger/Library/Mobile Documents/com~apple~CloudDocs/Uni/FS_2025/Social Media Analytics/project/social-botnet-analytics/data/raw/labels_bot.pt'), PosixPath('/Users/dennisberger/Library/Mobile Documents/com~apple~CloudDocs/Uni/FS_2025/Social Media Analytics/project/social-botnet-analytics/data/raw/edge_weight.pt'), PosixPath('/Users/dennisberger/Library/Mobile Documents/com~apple~CloudDocs/Uni/FS_2025/Social Media Analytics/project/social-botnet-analytics/data/raw/edge_index.pt'), PosixPath('/Users/dennisberger/Library/Mobile Documents/com~apple~CloudDocs/Uni/FS_2025/Social Media Analytics/project/social-botnet-analytics/data/raw/features.pt')]\n",
      "Removing old processed file…\n",
      "Dataset length: 1\n",
      "Data(x=[10199, 788], edge_index=[2, 1700108], edge_type=[1700108], edge_weight=[1700108], y_stance=[10199], y_bot=[10199], train_mask=[10199], val_mask=[10199], test_mask=[10199])\n",
      " • #nodes: 10199\n",
      " • #edges: 1700108\n",
      " • x.shape: (10199, 788)\n",
      " • y_bot labels: [0, 1]\n",
      " • mask sizes: 7139 2040 1020\n"
     ]
    },
    {
     "name": "stderr",
     "output_type": "stream",
     "text": [
      "Processing...\n",
      "Done!\n"
     ]
    }
   ],
   "source": [
    "from pathlib import Path\n",
    "import sys, os\n",
    "from src.data.mgtab_dataset import MGTAB\n",
    "\n",
    "# 1) Locate repo root\n",
    "repo_root   = Path().resolve().parent\n",
    "data_root   = repo_root / \"data\"\n",
    "raw_dir     = data_root / \"raw\"\n",
    "processed_dir = data_root / \"processed\"\n",
    "\n",
    "print(\"Repo root:       \", repo_root)\n",
    "print(\"Looking in raw:  \", raw_dir)\n",
    "print(\"Files in raw:    \", list(raw_dir.glob(\"*.pt\")))\n",
    "\n",
    "# 2) Ensure our src/ package is importable\n",
    "sys.path.insert(0, str(repo_root))\n",
    "\n",
    "# 3) Remove old processed file so `process()` will run\n",
    "processed_file = processed_dir / \"data.pt\"\n",
    "if processed_file.exists():\n",
    "    print(\"Removing old processed file…\")\n",
    "    processed_file.unlink()\n",
    "\n",
    "# 4) Instantiate dataset (triggers process() if needed)\n",
    "dataset = MGTAB(root=str(data_root))\n",
    "\n",
    "# 5) Verify processed file appears\n",
    "assert processed_file.exists(), f\"Processed file not found at {processed_file}\"\n",
    "\n",
    "# 6) Inspect the loaded data\n",
    "print(\"Dataset length:\", len(dataset))\n",
    "data = dataset[0]\n",
    "print(data)  # summary\n",
    "print(f\" • #nodes: {data.num_nodes}\")\n",
    "print(f\" • #edges: {data.num_edges}\")\n",
    "print(f\" • x.shape: {tuple(data.x.shape)}\")\n",
    "print(f\" • y_bot labels: {data.y_bot.unique().tolist()}\")\n",
    "print(\" • mask sizes:\", \n",
    "      data.train_mask.sum().item(), \n",
    "      data.val_mask.sum().item(), \n",
    "      data.test_mask.sum().item())\n",
    "\n",
    "\n"
   ]
  },
  {
   "cell_type": "code",
   "execution_count": 5,
   "id": "5f448414",
   "metadata": {
    "vscode": {
     "languageId": "plaintext"
    }
   },
   "outputs": [
    {
     "name": "stdout",
     "output_type": "stream",
     "text": [
      "Neo4j connection test: [{'test': 1}]\n"
     ]
    }
   ],
   "source": [
    "from py2neo import Graph\n",
    "\n",
    "neo_cfg = cfg[\"neo4j\"]\n",
    "graph = Graph(neo_cfg[\"uri\"], auth=(neo_cfg[\"user\"], neo_cfg[\"password\"]))\n",
    "\n",
    "# simple test query\n",
    "result = graph.run(\"RETURN 1 AS test\").data()\n",
    "print(\"Neo4j connection test:\", result)\n"
   ]
  },
  {
   "cell_type": "code",
   "execution_count": null,
   "id": "b29b6b1a-146d-48cd-8329-6715f2fda09e",
   "metadata": {},
   "outputs": [],
   "source": []
  }
 ],
 "metadata": {
  "kernelspec": {
   "display_name": "Python 3 (ipykernel)",
   "language": "python",
   "name": "python3"
  },
  "language_info": {
   "codemirror_mode": {
    "name": "ipython",
    "version": 3
   },
   "file_extension": ".py",
   "mimetype": "text/x-python",
   "name": "python",
   "nbconvert_exporter": "python",
   "pygments_lexer": "ipython3",
   "version": "3.13.2"
  }
 },
 "nbformat": 4,
 "nbformat_minor": 5
}
