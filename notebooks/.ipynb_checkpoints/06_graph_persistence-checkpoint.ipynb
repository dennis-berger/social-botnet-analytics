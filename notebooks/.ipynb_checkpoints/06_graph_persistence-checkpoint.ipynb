{
 "cells": [
  {
   "cell_type": "markdown",
   "id": "a3159c3b",
   "metadata": {},
   "source": [
    "# Batch‐import into Neo4j via py2neo"
   ]
  },
  {
   "cell_type": "code",
   "execution_count": 3,
   "id": "e8c55857",
   "metadata": {
    "vscode": {
     "languageId": "plaintext"
    }
   },
   "outputs": [
    {
     "name": "stdout",
     "output_type": "stream",
     "text": [
      "Neo4j connection test: [{'test': 1}]\n"
     ]
    }
   ],
   "source": [
    "from py2neo import Graph\n",
    "import torch\n",
    "from torch_geometric.utils import to_networkx\n",
    "from pathlib import Path\n",
    "import os\n",
    "\n",
    "# Load Neo4j credentials from config\n",
    "import yaml\n",
    "config_path = os.path.join(\"..\", \"config\", \"config.yaml\")\n",
    "with open(config_path) as f:\n",
    "    cfg = yaml.safe_load(f)\n",
    "\n",
    "neo_cfg = cfg[\"neo4j\"]\n",
    "\n",
    "# Connect to neo4j\n",
    "graph = Graph(neo_cfg[\"uri\"], auth=(neo_cfg[\"user\"], neo_cfg[\"password\"]))\n",
    "print(\"Neo4j connection test:\", graph.run(\"RETURN 1 AS test\").data())"
   ]
  },
  {
   "cell_type": "markdown",
   "id": "da9dd140",
   "metadata": {},
   "source": [
    "# Load cleaned PyG data and build NX graph"
   ]
  },
  {
   "cell_type": "code",
   "execution_count": 4,
   "id": "54b2d81f",
   "metadata": {
    "vscode": {
     "languageId": "plaintext"
    }
   },
   "outputs": [],
   "source": [
    "repo_root = Path().resolve().parent\n",
    "data = torch.load(repo_root/\"data\"/\"processed\"/\"cleaned_data.pt\", weights_only=False)\n",
    "G    = to_networkx(data, to_undirected=True)"
   ]
  },
  {
   "cell_type": "markdown",
   "id": "6bfb6e57",
   "metadata": {},
   "source": [
    "# Assemble node and edge payload"
   ]
  },
  {
   "cell_type": "code",
   "execution_count": 5,
   "id": "deaaa236",
   "metadata": {
    "vscode": {
     "languageId": "plaintext"
    }
   },
   "outputs": [],
   "source": [
    "nodes_payload = [\n",
    "    {\n",
    "      \"user_id\":    int(u),\n",
    "      \"is_bot\":     int(data.y_bot[u].item()),\n",
    "      \"stance\":     int(data.y_stance[u].item()),\n",
    "      \"train_mask\": bool(data.train_mask[u].item()),\n",
    "      \"val_mask\":   bool(data.val_mask[u].item()),\n",
    "      \"test_mask\":  bool(data.test_mask[u].item()),\n",
    "    }\n",
    "    for u in G.nodes()\n",
    "]\n",
    "\n",
    "edges_payload = [\n",
    "    {\"source\": int(u), \"target\": int(v)}\n",
    "    for u,v in G.edges()\n",
    "]"
   ]
  },
  {
   "cell_type": "markdown",
   "id": "a057511d",
   "metadata": {},
   "source": [
    "# Create nodes in batch"
   ]
  },
  {
   "cell_type": "code",
   "execution_count": 6,
   "id": "15aecd56",
   "metadata": {
    "vscode": {
     "languageId": "plaintext"
    }
   },
   "outputs": [
    {
     "data": {
      "text/html": [
       "(No data)"
      ],
      "text/plain": [
       "(No data)"
      ]
     },
     "execution_count": 6,
     "metadata": {},
     "output_type": "execute_result"
    }
   ],
   "source": [
    "graph.run(\"MATCH (n) DETACH DELETE n\")\n",
    "\n",
    "# Create nodes in batch\n",
    "graph.run(\"\"\"\n",
    "UNWIND $rows AS row\n",
    "MERGE (u:User {user_id: row.user_id})\n",
    "  SET u.is_bot     = row.is_bot,\n",
    "      u.stance     = row.stance,\n",
    "      u.train_mask = row.train_mask,\n",
    "      u.val_mask   = row.val_mask,\n",
    "      u.test_mask  = row.test_mask\n",
    "\"\"\", rows=nodes_payload)"
   ]
  },
  {
   "cell_type": "markdown",
   "id": "aaa7d7d0",
   "metadata": {},
   "source": [
    "# Create relationships in batch\n"
   ]
  },
  {
   "cell_type": "code",
   "execution_count": 7,
   "id": "9fc6e729",
   "metadata": {
    "vscode": {
     "languageId": "plaintext"
    }
   },
   "outputs": [
    {
     "ename": "TransientError",
     "evalue": "[General.OutOfMemoryError] There is not enough memory to perform the current task. Please try increasing 'server.memory.heap.max_size' in the neo4j configuration (normally in 'conf/neo4j.conf' or, if you are using Neo4j Desktop, found through the user interface) or if you are running an embedded installation increase the heap by using '-Xmx' command line flag, and then restart the database.",
     "output_type": "error",
     "traceback": [
      "\u001b[31m---------------------------------------------------------------------------\u001b[39m",
      "\u001b[31mTransientError\u001b[39m                            Traceback (most recent call last)",
      "\u001b[36mCell\u001b[39m\u001b[36m \u001b[39m\u001b[32mIn[7]\u001b[39m\u001b[32m, line 1\u001b[39m\n\u001b[32m----> \u001b[39m\u001b[32m1\u001b[39m \u001b[43mgraph\u001b[49m\u001b[43m.\u001b[49m\u001b[43mrun\u001b[49m\u001b[43m(\u001b[49m\u001b[33;43m\"\"\"\u001b[39;49m\n\u001b[32m      2\u001b[39m \u001b[33;43mUNWIND $rows AS row\u001b[39;49m\n\u001b[32m      3\u001b[39m \u001b[33;43mMATCH (u:User \u001b[39;49m\u001b[33;43m{\u001b[39;49m\u001b[33;43muser_id: row.source})\u001b[39;49m\n\u001b[32m      4\u001b[39m \u001b[33;43mMATCH (v:User \u001b[39;49m\u001b[33;43m{\u001b[39;49m\u001b[33;43muser_id: row.target})\u001b[39;49m\n\u001b[32m      5\u001b[39m \u001b[33;43mMERGE (u)-[:FOLLOWS]->(v)\u001b[39;49m\n\u001b[32m      6\u001b[39m \u001b[33;43m\"\"\"\u001b[39;49m\u001b[43m,\u001b[49m\u001b[43m \u001b[49m\u001b[43mrows\u001b[49m\u001b[43m=\u001b[49m\u001b[43medges_payload\u001b[49m\u001b[43m)\u001b[49m\n\u001b[32m      8\u001b[39m \u001b[38;5;28mprint\u001b[39m(\u001b[33m\"\u001b[39m\u001b[33mImport complete.\u001b[39m\u001b[33m\"\u001b[39m)\n",
      "\u001b[36mFile \u001b[39m\u001b[32m~/Library/Mobile Documents/com~apple~CloudDocs/Uni/FS_2025/Social Media Analytics/project/social-botnet-analytics/.venv/lib/python3.13/site-packages/py2neo/database.py:405\u001b[39m, in \u001b[36mGraph.run\u001b[39m\u001b[34m(self, cypher, parameters, **kwparameters)\u001b[39m\n\u001b[32m    395\u001b[39m \u001b[38;5;28;01mdef\u001b[39;00m\u001b[38;5;250m \u001b[39m\u001b[34mrun\u001b[39m(\u001b[38;5;28mself\u001b[39m, cypher, parameters=\u001b[38;5;28;01mNone\u001b[39;00m, **kwparameters):\n\u001b[32m    396\u001b[39m \u001b[38;5;250m    \u001b[39m\u001b[33;03m\"\"\" Run a single read/write query within an auto-commit\u001b[39;00m\n\u001b[32m    397\u001b[39m \u001b[33;03m    :class:`~py2neo.Transaction`.\u001b[39;00m\n\u001b[32m    398\u001b[39m \n\u001b[32m   (...)\u001b[39m\u001b[32m    403\u001b[39m \u001b[33;03m    :return:\u001b[39;00m\n\u001b[32m    404\u001b[39m \u001b[33;03m    \"\"\"\u001b[39;00m\n\u001b[32m--> \u001b[39m\u001b[32m405\u001b[39m     \u001b[38;5;28;01mreturn\u001b[39;00m \u001b[38;5;28;43mself\u001b[39;49m\u001b[43m.\u001b[49m\u001b[43mauto\u001b[49m\u001b[43m(\u001b[49m\u001b[43m)\u001b[49m\u001b[43m.\u001b[49m\u001b[43mrun\u001b[49m\u001b[43m(\u001b[49m\u001b[43mcypher\u001b[49m\u001b[43m,\u001b[49m\u001b[43m \u001b[49m\u001b[43mparameters\u001b[49m\u001b[43m,\u001b[49m\u001b[43m \u001b[49m\u001b[43m*\u001b[49m\u001b[43m*\u001b[49m\u001b[43mkwparameters\u001b[49m\u001b[43m)\u001b[49m\n",
      "\u001b[36mFile \u001b[39m\u001b[32m~/Library/Mobile Documents/com~apple~CloudDocs/Uni/FS_2025/Social Media Analytics/project/social-botnet-analytics/.venv/lib/python3.13/site-packages/py2neo/database.py:992\u001b[39m, in \u001b[36mTransaction.run\u001b[39m\u001b[34m(self, cypher, parameters, **kwparameters)\u001b[39m\n\u001b[32m    988\u001b[39m     \u001b[38;5;28;01melse\u001b[39;00m:\n\u001b[32m    989\u001b[39m         result = \u001b[38;5;28mself\u001b[39m._connector.auto_run(cypher, parameters,\n\u001b[32m    990\u001b[39m                                           graph_name=\u001b[38;5;28mself\u001b[39m.graph.name,\n\u001b[32m    991\u001b[39m                                           readonly=\u001b[38;5;28mself\u001b[39m.readonly)\n\u001b[32m--> \u001b[39m\u001b[32m992\u001b[39m     \u001b[38;5;28;43mself\u001b[39;49m\u001b[43m.\u001b[49m\u001b[43m_connector\u001b[49m\u001b[43m.\u001b[49m\u001b[43mpull\u001b[49m\u001b[43m(\u001b[49m\u001b[43mresult\u001b[49m\u001b[43m,\u001b[49m\u001b[43m \u001b[49m\u001b[43m-\u001b[49m\u001b[32;43m1\u001b[39;49m\u001b[43m)\u001b[49m\n\u001b[32m    993\u001b[39m     \u001b[38;5;28;01mreturn\u001b[39;00m Cursor(result, hydrant)\n\u001b[32m    994\u001b[39m \u001b[38;5;28;01mfinally\u001b[39;00m:\n",
      "\u001b[36mFile \u001b[39m\u001b[32m~/Library/Mobile Documents/com~apple~CloudDocs/Uni/FS_2025/Social Media Analytics/project/social-botnet-analytics/.venv/lib/python3.13/site-packages/py2neo/client/__init__.py:1434\u001b[39m, in \u001b[36mConnector.pull\u001b[39m\u001b[34m(self, result, n)\u001b[39m\n\u001b[32m   1432\u001b[39m cx = \u001b[38;5;28mself\u001b[39m._reacquire(result.transaction)\n\u001b[32m   1433\u001b[39m \u001b[38;5;28;01mtry\u001b[39;00m:\n\u001b[32m-> \u001b[39m\u001b[32m1434\u001b[39m     \u001b[43mcx\u001b[49m\u001b[43m.\u001b[49m\u001b[43mpull\u001b[49m\u001b[43m(\u001b[49m\u001b[43mresult\u001b[49m\u001b[43m,\u001b[49m\u001b[43m \u001b[49m\u001b[43mn\u001b[49m\u001b[43m=\u001b[49m\u001b[43mn\u001b[49m\u001b[43m)\u001b[49m\n\u001b[32m   1435\u001b[39m \u001b[38;5;28;01mexcept\u001b[39;00m (ConnectionUnavailable, ConnectionBroken):\n\u001b[32m   1436\u001b[39m     \u001b[38;5;28mself\u001b[39m.prune(cx.profile)\n",
      "\u001b[36mFile \u001b[39m\u001b[32m~/Library/Mobile Documents/com~apple~CloudDocs/Uni/FS_2025/Social Media Analytics/project/social-botnet-analytics/.venv/lib/python3.13/site-packages/py2neo/client/bolt.py:1001\u001b[39m, in \u001b[36mBolt4x0.pull\u001b[39m\u001b[34m(self, result, n, capacity)\u001b[39m\n\u001b[32m    998\u001b[39m     raise_from(ConnectionBroken(\u001b[33m\"\u001b[39m\u001b[33mTransaction broken by disconnection \u001b[39m\u001b[33m\"\u001b[39m\n\u001b[32m    999\u001b[39m                                 \u001b[33m\"\u001b[39m\u001b[33mduring pull\u001b[39m\u001b[33m\"\u001b[39m), error)\n\u001b[32m   1000\u001b[39m \u001b[38;5;28;01melse\u001b[39;00m:\n\u001b[32m-> \u001b[39m\u001b[32m1001\u001b[39m     \u001b[38;5;28;43mself\u001b[39;49m\u001b[43m.\u001b[49m\u001b[43m_audit\u001b[49m\u001b[43m(\u001b[49m\u001b[38;5;28;43mself\u001b[39;49m\u001b[43m.\u001b[49m\u001b[43m_transaction\u001b[49m\u001b[43m)\u001b[49m\n\u001b[32m   1002\u001b[39m     \u001b[38;5;28;01mreturn\u001b[39;00m response\n",
      "\u001b[36mFile \u001b[39m\u001b[32m~/Library/Mobile Documents/com~apple~CloudDocs/Uni/FS_2025/Social Media Analytics/project/social-botnet-analytics/.venv/lib/python3.13/site-packages/py2neo/client/bolt.py:810\u001b[39m, in \u001b[36mBolt1._audit\u001b[39m\u001b[34m(self, task)\u001b[39m\n\u001b[32m    808\u001b[39m     \u001b[38;5;28;01mreturn\u001b[39;00m\n\u001b[32m    809\u001b[39m \u001b[38;5;28;01mtry\u001b[39;00m:\n\u001b[32m--> \u001b[39m\u001b[32m810\u001b[39m     \u001b[43mtask\u001b[49m\u001b[43m.\u001b[49m\u001b[43maudit\u001b[49m\u001b[43m(\u001b[49m\u001b[43m)\u001b[49m\n\u001b[32m    811\u001b[39m \u001b[38;5;28;01mexcept\u001b[39;00m Neo4jError:\n\u001b[32m    812\u001b[39m     \u001b[38;5;28mself\u001b[39m.reset(force=\u001b[38;5;28;01mTrue\u001b[39;00m)\n",
      "\u001b[36mFile \u001b[39m\u001b[32m~/Library/Mobile Documents/com~apple~CloudDocs/Uni/FS_2025/Social Media Analytics/project/social-botnet-analytics/.venv/lib/python3.13/site-packages/py2neo/client/bolt.py:1140\u001b[39m, in \u001b[36mItemizedTask.audit\u001b[39m\u001b[34m(self)\u001b[39m\n\u001b[32m   1138\u001b[39m \u001b[38;5;28;01mdef\u001b[39;00m\u001b[38;5;250m \u001b[39m\u001b[34maudit\u001b[39m(\u001b[38;5;28mself\u001b[39m):\n\u001b[32m   1139\u001b[39m     \u001b[38;5;28;01mfor\u001b[39;00m item \u001b[38;5;129;01min\u001b[39;00m \u001b[38;5;28mself\u001b[39m._items:\n\u001b[32m-> \u001b[39m\u001b[32m1140\u001b[39m         \u001b[43mitem\u001b[49m\u001b[43m.\u001b[49m\u001b[43maudit\u001b[49m\u001b[43m(\u001b[49m\u001b[43m)\u001b[49m\n",
      "\u001b[36mFile \u001b[39m\u001b[32m~/Library/Mobile Documents/com~apple~CloudDocs/Uni/FS_2025/Social Media Analytics/project/social-botnet-analytics/.venv/lib/python3.13/site-packages/py2neo/client/bolt.py:1140\u001b[39m, in \u001b[36mItemizedTask.audit\u001b[39m\u001b[34m(self)\u001b[39m\n\u001b[32m   1138\u001b[39m \u001b[38;5;28;01mdef\u001b[39;00m\u001b[38;5;250m \u001b[39m\u001b[34maudit\u001b[39m(\u001b[38;5;28mself\u001b[39m):\n\u001b[32m   1139\u001b[39m     \u001b[38;5;28;01mfor\u001b[39;00m item \u001b[38;5;129;01min\u001b[39;00m \u001b[38;5;28mself\u001b[39m._items:\n\u001b[32m-> \u001b[39m\u001b[32m1140\u001b[39m         \u001b[43mitem\u001b[49m\u001b[43m.\u001b[49m\u001b[43maudit\u001b[49m\u001b[43m(\u001b[49m\u001b[43m)\u001b[49m\n",
      "\u001b[36mFile \u001b[39m\u001b[32m~/Library/Mobile Documents/com~apple~CloudDocs/Uni/FS_2025/Social Media Analytics/project/social-botnet-analytics/.venv/lib/python3.13/site-packages/py2neo/client/bolt.py:1303\u001b[39m, in \u001b[36mBoltResponse.audit\u001b[39m\u001b[34m(self)\u001b[39m\n\u001b[32m   1301\u001b[39m \u001b[38;5;28;01mif\u001b[39;00m \u001b[38;5;28mself\u001b[39m._failure:\n\u001b[32m   1302\u001b[39m     \u001b[38;5;28mself\u001b[39m.set_ignored()\n\u001b[32m-> \u001b[39m\u001b[32m1303\u001b[39m     \u001b[38;5;28;01mraise\u001b[39;00m \u001b[38;5;28mself\u001b[39m._failure\n",
      "\u001b[31mTransientError\u001b[39m: [General.OutOfMemoryError] There is not enough memory to perform the current task. Please try increasing 'server.memory.heap.max_size' in the neo4j configuration (normally in 'conf/neo4j.conf' or, if you are using Neo4j Desktop, found through the user interface) or if you are running an embedded installation increase the heap by using '-Xmx' command line flag, and then restart the database."
     ]
    }
   ],
   "source": [
    "BATCH_SIZE = 2000\n",
    "total = len(edges_payload)\n",
    "for i in range(0, total, BATCH_SIZE):\n",
    "    batch = edges_payload[i : i + BATCH_SIZE]\n",
    "    graph.run(\n",
    "        \"\"\"\n",
    "        UNWIND $rows AS row\n",
    "        MATCH (u:User {user_id: row.source})\n",
    "        MATCH (v:User {user_id: row.target})\n",
    "        MERGE (u)-[:FOLLOWS]->(v)\n",
    "        \"\"\",\n",
    "        rows=batch\n",
    "    )\n",
    "    print(f\"Imported relationships {i+1:,}–{min(i+BATCH_SIZE, total):,}\")\n"
   ]
  },
  {
   "cell_type": "code",
   "execution_count": null,
   "id": "15b167a8-98eb-495b-a580-302d19618cae",
   "metadata": {},
   "outputs": [],
   "source": []
  }
 ],
 "metadata": {
  "kernelspec": {
   "display_name": "Python 3 (ipykernel)",
   "language": "python",
   "name": "python3"
  },
  "language_info": {
   "codemirror_mode": {
    "name": "ipython",
    "version": 3
   },
   "file_extension": ".py",
   "mimetype": "text/x-python",
   "name": "python",
   "nbconvert_exporter": "python",
   "pygments_lexer": "ipython3",
   "version": "3.13.2"
  }
 },
 "nbformat": 4,
 "nbformat_minor": 5
}
