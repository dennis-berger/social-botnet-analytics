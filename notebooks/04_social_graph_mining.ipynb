{
 "cells": [
  {
   "cell_type": "markdown",
   "id": "d31af708",
   "metadata": {},
   "source": [
    "\n",
    "# Environment setup & imports\n"
   ]
  },
  {
   "cell_type": "code",
   "execution_count": 1,
   "id": "80daa04f",
   "metadata": {
    "vscode": {
     "languageId": "plaintext"
    }
   },
   "outputs": [],
   "source": [
    "import os\n",
    "from pathlib import Path\n",
    "\n",
    "import torch\n",
    "import pandas as pd\n",
    "import numpy as np\n",
    "\n",
    "from sklearn.model_selection import train_test_split\n",
    "from sklearn.tree import DecisionTreeClassifier\n",
    "from sklearn.naive_bayes import GaussianNB\n",
    "from sklearn.neighbors import KNeighborsClassifier\n",
    "from sklearn.metrics import classification_report\n",
    "from sklearn.feature_extraction.text import TfidfVectorizer\n",
    "from sklearn.cluster import KMeans\n",
    "from sklearn.metrics import silhouette_score\n",
    "\n",
    "import matplotlib.pyplot as plt"
   ]
  },
  {
   "cell_type": "markdown",
   "id": "a31dface",
   "metadata": {},
   "source": [
    "# Load cleaned graph data"
   ]
  },
  {
   "cell_type": "code",
   "execution_count": 2,
   "id": "598d5562",
   "metadata": {
    "vscode": {
     "languageId": "plaintext"
    }
   },
   "outputs": [],
   "source": [
    "repo_root    = Path().resolve().parent\n",
    "cleaned_path = repo_root / \"data\" / \"processed\" / \"cleaned_data.pt\"\n",
    "data         = torch.load(cleaned_path, weights_only=False)\n",
    "\n",
    "X_numeric = data.x.numpy()           # numeric features\n",
    "y_bot     = data.y_bot.numpy()       # target labels"
   ]
  },
  {
   "cell_type": "markdown",
   "id": "a1836eaf",
   "metadata": {},
   "source": [
    "# Data Quality Checks"
   ]
  },
  {
   "cell_type": "code",
   "execution_count": 3,
   "id": "f02b27da",
   "metadata": {
    "vscode": {
     "languageId": "plaintext"
    }
   },
   "outputs": [
    {
     "name": "stdout",
     "output_type": "stream",
     "text": [
      "Feature matrix shape: (10199, 788)\n",
      "Max NaNs per feature: 0\n",
      "Duplicate rows in features: 0\n"
     ]
    }
   ],
   "source": [
    "print(\"Feature matrix shape:\", X_numeric.shape)\n",
    "print(\"Max NaNs per feature:\", np.isnan(X_numeric).sum(axis=0).max())\n",
    "print(\"Duplicate rows in features:\", pd.DataFrame(X_numeric).duplicated().sum())"
   ]
  },
  {
   "cell_type": "markdown",
   "id": "7c6e060a-917e-43d9-aff9-5da70535b34d",
   "metadata": {},
   "source": [
    "- **Feature matrix shape:** `(10199, 788)`  \n",
    "  Confirms we have 10 199 users each represented by 788 numeric features.\n",
    "\n",
    "- **Max NaNs per feature:** `0`  \n",
    "  No missing values—every feature dimension is fully populated.\n",
    "\n",
    "- **Duplicate rows in features:** `0`  \n",
    "  No two users share an identical 788-dimensional feature vector, so each row is unique."
   ]
  },
  {
   "cell_type": "markdown",
   "id": "3c0f3944",
   "metadata": {},
   "source": [
    "# Train/test split"
   ]
  },
  {
   "cell_type": "code",
   "execution_count": 4,
   "id": "b21f6ee7",
   "metadata": {
    "vscode": {
     "languageId": "plaintext"
    }
   },
   "outputs": [],
   "source": [
    "X_train, X_test, y_train, y_test = train_test_split(\n",
    "    X_numeric, y_bot, test_size=0.2, random_state=42, stratify=y_bot\n",
    ")"
   ]
  },
  {
   "cell_type": "markdown",
   "id": "07d29a00",
   "metadata": {},
   "source": [
    "# Decision Tree"
   ]
  },
  {
   "cell_type": "code",
   "execution_count": 5,
   "id": "0e44784a",
   "metadata": {
    "vscode": {
     "languageId": "plaintext"
    }
   },
   "outputs": [
    {
     "name": "stdout",
     "output_type": "stream",
     "text": [
      "Decision Tree\n",
      "               precision    recall  f1-score   support\n",
      "\n",
      "           0     0.9235    0.9235    0.9235      1490\n",
      "           1     0.7927    0.7927    0.7927       550\n",
      "\n",
      "    accuracy                         0.8882      2040\n",
      "   macro avg     0.8581    0.8581    0.8581      2040\n",
      "weighted avg     0.8882    0.8882    0.8882      2040\n",
      "\n"
     ]
    }
   ],
   "source": [
    "dt = DecisionTreeClassifier(max_depth=5, random_state=42)\n",
    "dt.fit(X_train, y_train)\n",
    "print(\"Decision Tree\\n\", classification_report(y_test, dt.predict(X_test), digits=4))"
   ]
  },
  {
   "cell_type": "markdown",
   "id": "5b27d061-52eb-45b3-b994-5a197d5dbbde",
   "metadata": {},
   "source": [
    "- **Accuracy:** 88.82 %  \n",
    "- **Balance:** Strong performance on both classes, with F1 ≈ 0.92 for humans and ≈ 0.79 for bots."
   ]
  },
  {
   "cell_type": "markdown",
   "id": "366e5139",
   "metadata": {},
   "source": [
    "# Naive Bayes\n"
   ]
  },
  {
   "cell_type": "code",
   "execution_count": 6,
   "id": "1f0aba5c-2d81-4115-854c-e2ce4de05dc6",
   "metadata": {},
   "outputs": [
    {
     "name": "stdout",
     "output_type": "stream",
     "text": [
      "Naive Bayes\n",
      "               precision    recall  f1-score   support\n",
      "\n",
      "           0     0.9781    0.6000    0.7438      1490\n",
      "           1     0.4707    0.9636    0.6325       550\n",
      "\n",
      "    accuracy                         0.6980      2040\n",
      "   macro avg     0.7244    0.7818    0.6881      2040\n",
      "weighted avg     0.8413    0.6980    0.7138      2040\n",
      "\n"
     ]
    }
   ],
   "source": [
    "nb = GaussianNB()\n",
    "nb.fit(X_train, y_train)\n",
    "print(\"Naive Bayes\\n\", classification_report(y_test, nb.predict(X_test), digits=4))"
   ]
  },
  {
   "cell_type": "markdown",
   "id": "91af4fb1-e7fb-436f-803d-dacad8d81f5e",
   "metadata": {},
   "source": [
    "- **Accuracy:** 69.80 %  \n",
    "- **Observation:** Extremely high recall on bots (96.36 %) but poor precision (47.07 %), indicating many false positives when flagging bots."
   ]
  },
  {
   "cell_type": "markdown",
   "id": "9259ad3c",
   "metadata": {},
   "source": [
    "# k-NN"
   ]
  },
  {
   "cell_type": "code",
   "execution_count": 7,
   "id": "783e8a6c",
   "metadata": {
    "vscode": {
     "languageId": "plaintext"
    }
   },
   "outputs": [
    {
     "name": "stdout",
     "output_type": "stream",
     "text": [
      "k-NN (k=5)\n",
      "               precision    recall  f1-score   support\n",
      "\n",
      "           0     0.8832    0.9181    0.9003      1490\n",
      "           1     0.7515    0.6709    0.7089       550\n",
      "\n",
      "    accuracy                         0.8515      2040\n",
      "   macro avg     0.8173    0.7945    0.8046      2040\n",
      "weighted avg     0.8477    0.8515    0.8487      2040\n",
      "\n"
     ]
    }
   ],
   "source": [
    "knn = KNeighborsClassifier(n_neighbors=5)\n",
    "knn.fit(X_train, y_train)\n",
    "print(\"k-NN (k=5)\\n\", classification_report(y_test, knn.predict(X_test), digits=4))"
   ]
  },
  {
   "cell_type": "markdown",
   "id": "eb158f68-a3d4-4458-9f76-a74d3e38b249",
   "metadata": {},
   "source": [
    "- **Accuracy:** 85.15 %  \n",
    "- **Balance:** Good trade-off between precision and recall on bots, F1 ≈ 0.71, slightly behind the Decision Tree."
   ]
  },
  {
   "cell_type": "markdown",
   "id": "67cb1446",
   "metadata": {},
   "source": [
    "# k-Means clustering on numeric features"
   ]
  },
  {
   "cell_type": "code",
   "execution_count": 8,
   "id": "5150804f",
   "metadata": {
    "vscode": {
     "languageId": "plaintext"
    }
   },
   "outputs": [
    {
     "data": {
      "image/png": "[encoded data removed]",
      "text/plain": [
       "<Figure size 640x480 with 1 Axes>"
      ]
     },
     "metadata": {},
     "output_type": "display_data"
    },
    {
     "name": "stdout",
     "output_type": "stream",
     "text": [
      "Best k by silhouette: 2\n",
      "Cluster sizes: 0    9812\n",
      "1     387\n",
      "Name: count, dtype: int64\n"
     ]
    }
   ],
   "source": [
    "sil_scores = []\n",
    "for k in range(2, 11):\n",
    "    labels_k = KMeans(n_clusters=k, random_state=42).fit_predict(X_numeric)\n",
    "    sil_scores.append(silhouette_score(X_numeric, labels_k))\n",
    "\n",
    "plt.plot(range(2, 11), sil_scores, marker='o')\n",
    "plt.title(\"Silhouette vs. k\")\n",
    "plt.xlabel(\"k clusters\")\n",
    "plt.ylabel(\"Silhouette\")\n",
    "plt.show()\n",
    "\n",
    "best_k = np.argmax(sil_scores) + 2\n",
    "print(\"Best k by silhouette:\", best_k)\n",
    "\n",
    "clusters = KMeans(n_clusters=best_k, random_state=42).fit_predict(X_numeric)\n",
    "print(\"Cluster sizes:\", pd.Series(clusters).value_counts().sort_index())"
   ]
  },
  {
   "cell_type": "markdown",
   "id": "cd76d9f5-80ba-41c3-9168-ce5af7777a5e",
   "metadata": {},
   "source": [
    "- **Silhouette analysis** selected **k=2** as optimal.  \n",
    "- **Cluster sizes:**  \n",
    "  - Cluster 0: 9 812 users  \n",
    "  - Cluster 1:   387 users  "
   ]
  },
  {
   "cell_type": "markdown",
   "id": "88b27f60",
   "metadata": {},
   "source": [
    "# Bot ratio per cluster"
   ]
  },
  {
   "cell_type": "code",
   "execution_count": 9,
   "id": "d79cb192",
   "metadata": {
    "vscode": {
     "languageId": "plaintext"
    }
   },
   "outputs": [
    {
     "name": "stdout",
     "output_type": "stream",
     "text": [
      "Bot ratio:\n",
      " cluster\n",
      "0    0.280065\n",
      "1    0.000000\n",
      "Name: bot, dtype: float64\n"
     ]
    }
   ],
   "source": [
    "bot_ratio = pd.DataFrame({'cluster': clusters, 'bot': y_bot})\n",
    "print(\"Bot ratio:\\n\", bot_ratio.groupby('cluster')['bot'].mean().sort_values(ascending=False))"
   ]
  },
  {
   "cell_type": "markdown",
   "id": "e9ad8916-87a7-4254-872f-9ba0f814acd6",
   "metadata": {},
   "source": [
    "- **Interpretation:**  \n",
    "  - Cluster 0 has a bot prevalence slightly above the network average (~27 %).  \n",
    "  - Cluster 1 contains no bots at all.  \n",
    "\n",
    "This unsupervised clustering suggests a clear separation in feature‐space: one large group mixing humans and bots, and a small “bot‐free” enclave. "
   ]
  },
  {
   "cell_type": "code",
   "execution_count": null,
   "id": "361467a6-2a6d-4333-bff3-311be0025c63",
   "metadata": {},
   "outputs": [],
   "source": []
  }
 ],
 "metadata": {
  "kernelspec": {
   "display_name": "Python 3 (ipykernel)",
   "language": "python",
   "name": "python3"
  },
  "language_info": {
   "codemirror_mode": {
    "name": "ipython",
    "version": 3
   },
   "file_extension": ".py",
   "mimetype": "text/x-python",
   "name": "python",
   "nbconvert_exporter": "python",
   "pygments_lexer": "ipython3",
   "version": "3.13.2"
  }
 },
 "nbformat": 4,
 "nbformat_minor": 5
}
